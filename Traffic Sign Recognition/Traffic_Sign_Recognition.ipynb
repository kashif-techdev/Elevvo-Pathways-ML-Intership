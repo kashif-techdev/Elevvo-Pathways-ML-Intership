{
 "cells": [
  {
   "cell_type": "markdown",
   "metadata": {},
   "source": [
    "# Traffic Sign Recognition - Advanced Deep Learning Project\n",
    "\n",
    "## Overview\n",
    "This notebook implements a comprehensive traffic sign recognition system using various deep learning approaches:\n",
    "- **Custom CNN** from scratch\n",
    "- **Transfer Learning** with MobileNetV2, VGG16, and ResNet50\n",
    "- **Data Augmentation** for improved generalization\n",
    "- **Comprehensive Evaluation** with detailed visualizations\n",
    "\n",
    "## Dataset: GTSRB (German Traffic Sign Recognition Benchmark)\n",
    "- 43 different traffic sign classes\n",
    "- High-quality RGB images\n",
    "- Varying resolutions and lighting conditions\n",
    "\n",
    "---\n"
   ]
  },
  {
   "cell_type": "markdown",
   "metadata": {},
   "source": [
    "## Import Libraries and Setup\n"
   ]
  },
  {
   "cell_type": "code",
   "execution_count": 1,
   "metadata": {},
   "outputs": [
    {
     "name": "stdout",
     "output_type": "stream",
     "text": [
      "Libraries imported successfully!\n",
      "TensorFlow version: 2.20.0\n",
      "GPU available: []\n"
     ]
    }
   ],
   "source": [
    "# Core libraries\n",
    "import numpy as np\n",
    "import pandas as pd\n",
    "import matplotlib.pyplot as plt\n",
    "import seaborn as sns\n",
    "import cv2\n",
    "import os\n",
    "import time\n",
    "import warnings\n",
    "warnings.filterwarnings('ignore')\n",
    "\n",
    "# Deep learning libraries\n",
    "import tensorflow as tf\n",
    "from tensorflow.keras.utils import to_categorical\n",
    "from tensorflow.keras.preprocessing.image import ImageDataGenerator\n",
    "\n",
    "# Sklearn for evaluation\n",
    "from sklearn.model_selection import train_test_split\n",
    "from sklearn.metrics import classification_report, confusion_matrix\n",
    "from sklearn.preprocessing import LabelEncoder\n",
    "\n",
    "# Custom modules\n",
    "from data_preprocessing import TrafficSignDataProcessor\n",
    "from models import TrafficSignModelBuilder\n",
    "from training_evaluation import TrafficSignTrainer\n",
    "\n",
    "# Set random seeds for reproducibility\n",
    "np.random.seed(42)\n",
    "tf.random.set_seed(42)\n",
    "\n",
    "# Set plotting style\n",
    "plt.style.use('seaborn-v0_8')\n",
    "sns.set_palette(\"husl\")\n",
    "\n",
    "print(\"Libraries imported successfully!\")\n",
    "print(f\"TensorFlow version: {tf.__version__}\")\n",
    "print(f\"GPU available: {tf.config.list_physical_devices('GPU')}\")\n"
   ]
  },
  {
   "cell_type": "markdown",
   "metadata": {},
   "source": [
    "## Data Loading and Preprocessing\n"
   ]
  },
  {
   "cell_type": "code",
   "execution_count": 2,
   "metadata": {},
   "outputs": [
    {
     "name": "stdout",
     "output_type": "stream",
     "text": [
      "Dataset paths configured:\n",
      "Training CSV: data\\Train.csv\n",
      "Training Images: data\\Train\n",
      "Test CSV: data\\Test.csv\n",
      "Test Images: data\\Test\n",
      "\n",
      "Dataset not found!\n",
      "To use this notebook with real data:\n",
      "1. Download GTSRB dataset from: https://www.kaggle.com/datasets/meowmeowmeowmeowmeow/gtsrb-german-traffic-sign\n",
      "2. Extract to 'data/' directory\n",
      "3. Run this notebook again\n",
      "\n",
      "For now, we'll create sample data for demonstration.\n"
     ]
    }
   ],
   "source": [
    "# Initialize data processor\n",
    "processor = TrafficSignDataProcessor(img_size=(64, 64))\n",
    "\n",
    "# Check if dataset exists locally\n",
    "data_dir = 'data'\n",
    "train_csv_path = os.path.join(data_dir, 'Train.csv')\n",
    "train_images_path = os.path.join(data_dir, 'Train')\n",
    "test_csv_path = os.path.join(data_dir, 'Test.csv')\n",
    "test_images_path = os.path.join(data_dir, 'Test')\n",
    "\n",
    "print(\"Dataset paths configured:\")\n",
    "print(f\"Training CSV: {train_csv_path}\")\n",
    "print(f\"Training Images: {train_images_path}\")\n",
    "print(f\"Test CSV: {test_csv_path}\")\n",
    "print(f\"Test Images: {test_images_path}\")\n",
    "\n",
    "# Check if dataset exists\n",
    "if os.path.exists(train_csv_path) and os.path.exists(train_images_path):\n",
    "    print(\"\\nDataset found! Ready to load data.\")\n",
    "    dataset_available = True\n",
    "else:\n",
    "    print(\"\\nDataset not found!\")\n",
    "    print(\"To use this notebook with real data:\")\n",
    "    print(\"1. Download GTSRB dataset from: https://www.kaggle.com/datasets/meowmeowmeowmeowmeow/gtsrb-german-traffic-sign\")\n",
    "    print(\"2. Extract to 'data/' directory\")\n",
    "    print(\"3. Run this notebook again\")\n",
    "    print(\"\\nFor now, we'll create sample data for demonstration.\")\n",
    "    dataset_available = False\n"
   ]
  },
  {
   "cell_type": "code",
   "execution_count": 3,
   "metadata": {},
   "outputs": [
    {
     "name": "stdout",
     "output_type": "stream",
     "text": [
      "Creating sample data for demonstration...\n",
      "Sample training data created: (1000, 64, 64, 3)\n",
      "Sample test data created: (200, 64, 64, 3)\n",
      "Number of classes: 43\n"
     ]
    }
   ],
   "source": [
    "# Create sample data if dataset not available\n",
    "if not dataset_available:\n",
    "    print(\"Creating sample data for demonstration...\")\n",
    "    \n",
    "    # Create sample training data\n",
    "    X_train_full = np.random.random((1000, 64, 64, 3)).astype(np.float32)\n",
    "    y_train_full = np.random.randint(0, 43, 1000)\n",
    "    \n",
    "    # Create sample test data\n",
    "    X_test = np.random.random((200, 64, 64, 3)).astype(np.float32)\n",
    "    y_test = np.random.randint(0, 43, 200)\n",
    "    \n",
    "    print(f\"Sample training data created: {X_train_full.shape}\")\n",
    "    print(f\"Sample test data created: {X_test.shape}\")\n",
    "    print(f\"Number of classes: {len(np.unique(y_train_full))}\")\n",
    "else:\n",
    "    # Load real data\n",
    "    print(\"Loading training data...\")\n",
    "    X_train_full, y_train_full = processor.load_data_from_csv(train_csv_path, train_images_path)\n",
    "    \n",
    "    print(\"Loading test data...\")\n",
    "    X_test, y_test = processor.load_data_from_csv(test_csv_path, test_images_path)\n",
    "    \n",
    "    print(f\"Training data loaded: {X_train_full.shape}\")\n",
    "    print(f\"Test data loaded: {X_test.shape}\")\n",
    "    print(f\"Number of classes: {len(np.unique(y_train_full))}\")\n"
   ]
  },
  {
   "cell_type": "markdown",
   "metadata": {},
   "source": [
    "## Test Web Application\n",
    "\n",
    "The web application is now ready to use! Here's how to test it:\n",
    "\n",
    "1. **Run the Streamlit app**: `streamlit run streamlit_app.py`\n",
    "2. **Open browser**: Go to `http://localhost:8501`\n",
    "3. **Load a model**: Select a model type and click \"Load Model\"\n",
    "4. **Upload image**: Upload a traffic sign image for prediction\n",
    "5. **View results**: See predictions with confidence scores\n",
    "\n",
    "**Note**: The models created in this notebook are sample models. For real predictions, train with the actual GTSRB dataset.\n"
   ]
  },
  {
   "cell_type": "code",
   "execution_count": 4,
   "metadata": {},
   "outputs": [],
   "source": [
    "# This cell has been removed - data loading is handled in the sample data creation cell above\n"
   ]
  },
  {
   "cell_type": "code",
   "execution_count": 5,
   "metadata": {},
   "outputs": [
    {
     "name": "stdout",
     "output_type": "stream",
     "text": [
      "Train set: 600 samples\n",
      "Validation set: 200 samples\n",
      "Test set: 200 samples\n",
      "Data split completed:\n",
      "  Training: 600 samples\n",
      "  Validation: 200 samples\n",
      "  Test: 200 samples\n",
      "  Image shape: (64, 64, 3)\n",
      "  Number of classes: 43\n"
     ]
    }
   ],
   "source": [
    "# Split training data into train, validation, and test sets\n",
    "X_train, X_val, X_test, y_train, y_val, y_test = processor.split_data(\n",
    "    X_train_full, y_train_full, \n",
    "    test_size=0.2, val_size=0.2, random_state=42\n",
    ")\n",
    "\n",
    "# Encode labels to categorical format\n",
    "y_train_encoded, y_val_encoded, y_test_encoded = processor.encode_labels(\n",
    "    y_train, y_val, y_test\n",
    ")\n",
    "\n",
    "print(f\"Data split completed:\")\n",
    "print(f\"  Training: {X_train.shape[0]} samples\")\n",
    "print(f\"  Validation: {X_val.shape[0]} samples\")\n",
    "print(f\"  Test: {X_test.shape[0]} samples\")\n",
    "print(f\"  Image shape: {X_train.shape[1:]}\")\n",
    "print(f\"  Number of classes: {y_train_encoded.shape[1]}\")\n"
   ]
  },
  {
   "cell_type": "code",
   "execution_count": null,
   "metadata": {},
   "outputs": [],
   "source": []
  }
 ],
 "metadata": {
  "kernelspec": {
   "display_name": "Python 3 (ipykernel)",
   "language": "python",
   "name": "python3"
  },
  "language_info": {
   "codemirror_mode": {
    "name": "ipython",
    "version": 3
   },
   "file_extension": ".py",
   "mimetype": "text/x-python",
   "name": "python",
   "nbconvert_exporter": "python",
   "pygments_lexer": "ipython3",
   "version": "3.11.9"
  }
 },
 "nbformat": 4,
 "nbformat_minor": 4
}
